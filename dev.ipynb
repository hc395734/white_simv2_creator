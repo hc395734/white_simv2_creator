{
 "cells": [
  {
   "cell_type": "code",
   "execution_count": 21,
   "id": "9169cf18",
   "metadata": {},
   "outputs": [],
   "source": [
    "import numpy as np\n",
    "\n",
    "def estimator(num_days_all, num_days_section, num_days_burnin, atol = 0.01):\n",
    "    \n",
    "    try:\n",
    "        _cache, _delta = 0, np.inf\n",
    "        while (_delta > atol):\n",
    "            _tmp = (num_days_all + _cache * num_days_burnin) / num_days_section\n",
    "            print(_tmp)\n",
    "            \n",
    "            _delta = _tmp - _cache\n",
    "            _cache = _tmp\n",
    "\n",
    "        return True\n",
    "    \n",
    "    except Exception as _e:\n",
    "        print(_e)\n",
    "        return False"
   ]
  },
  {
   "cell_type": "code",
   "execution_count": 22,
   "id": "25d0feaf",
   "metadata": {},
   "outputs": [
    {
     "name": "stdout",
     "output_type": "stream",
     "text": [
      "13.921875\n",
      "16.822265625\n",
      "17.426513671875\n",
      "17.552398681640625\n",
      "17.578624725341797\n",
      "17.58408848444621\n"
     ]
    },
    {
     "data": {
      "text/plain": [
       "True"
      ]
     },
     "execution_count": 22,
     "metadata": {},
     "output_type": "execute_result"
    }
   ],
   "source": [
    "estimator(243 * 2.75, 48, 10)"
   ]
  },
  {
   "cell_type": "markdown",
   "id": "d9aae8ea",
   "metadata": {},
   "source": [
    "# PO Data"
   ]
  },
  {
   "cell_type": "code",
   "execution_count": null,
   "id": "dcce5ba9",
   "metadata": {},
   "outputs": [],
   "source": [
    "import pandas as pd\n",
    "\n",
    "from utils.tcm_gen import TCMGen\n",
    "from data_core import *"
   ]
  },
  {
   "cell_type": "code",
   "execution_count": null,
   "id": "2660533d",
   "metadata": {},
   "outputs": [],
   "source": [
    "HOME_REMOTE = \"/home/hopec\"\n",
    "paths = {\n",
    "    \"config\": {\n",
    "        \"local\": \"data/po/config/optCfg.white_PO_prod.HKGUniv.EqTOP500.csv\",\n",
    "        \"remote\": \"po_root/config/HKGUniv.EqTOP500/optCfg.white_PO_prod.HKGUniv.EqTOP500.csv\"\n",
    "    },\n",
    "    \"tcm\": {\n",
    "        \"local\": \"/home/hope/data/rch/eq/tcm/tcmStats/HKGUniv.EqTOP500/DAILY/TCMStats.HKGUniv.EqTOP500.{}.csv.gz\",\n",
    "        \"remote\": \"po_root/data/eq/tcm/tcmStats/HKGUniv.EqTOP500/DAILY/TCMStats.HKGUniv.EqTOP500.{}.csv.gz\"\n",
    "    },\n",
    "    \"adv63\": {\n",
    "        \"local\": \"/home/hope/simDriver/running_pool/analysis/white_po/data/day_vol_adv63/{}.parquet\",\n",
    "        \"remote\": \"po_root/data/local/volume_prediction/adv63/1.0.0/{}.csv.gz\"\n",
    "    }\n",
    "}"
   ]
  },
  {
   "cell_type": "markdown",
   "id": "fc6fcc28",
   "metadata": {},
   "source": [
    "## tcm"
   ]
  },
  {
   "cell_type": "code",
   "execution_count": 43,
   "id": "7b8eb9ff",
   "metadata": {},
   "outputs": [
    {
     "ename": "TypeError",
     "evalue": "'NoneType' object does not support item assignment",
     "output_type": "error",
     "traceback": [
      "\u001b[0;31m---------------------------------------------------------------------------\u001b[0m",
      "\u001b[0;31mTypeError\u001b[0m                                 Traceback (most recent call last)",
      "\u001b[0;32m/tmp/ipykernel_282877/1085718791.py\u001b[0m in \u001b[0;36m<module>\u001b[0;34m\u001b[0m\n\u001b[1;32m      8\u001b[0m     \u001b[0m_str_date\u001b[0m \u001b[0;34m=\u001b[0m \u001b[0;34m\"-\"\u001b[0m\u001b[0;34m.\u001b[0m\u001b[0mjoin\u001b[0m\u001b[0;34m(\u001b[0m\u001b[0;34m[\u001b[0m\u001b[0mstr\u001b[0m\u001b[0;34m(\u001b[0m\u001b[0mdate\u001b[0m\u001b[0;34m)\u001b[0m\u001b[0;34m[\u001b[0m\u001b[0;34m:\u001b[0m\u001b[0;36m4\u001b[0m\u001b[0;34m]\u001b[0m\u001b[0;34m,\u001b[0m \u001b[0mstr\u001b[0m\u001b[0;34m(\u001b[0m\u001b[0mdate\u001b[0m\u001b[0;34m)\u001b[0m\u001b[0;34m[\u001b[0m\u001b[0;36m4\u001b[0m\u001b[0;34m:\u001b[0m\u001b[0;36m6\u001b[0m\u001b[0;34m]\u001b[0m\u001b[0;34m,\u001b[0m \u001b[0mstr\u001b[0m\u001b[0;34m(\u001b[0m\u001b[0mdate\u001b[0m\u001b[0;34m)\u001b[0m\u001b[0;34m[\u001b[0m\u001b[0;36m6\u001b[0m\u001b[0;34m:\u001b[0m\u001b[0;34m]\u001b[0m\u001b[0;34m]\u001b[0m\u001b[0;34m)\u001b[0m\u001b[0;34m\u001b[0m\u001b[0;34m\u001b[0m\u001b[0m\n\u001b[1;32m      9\u001b[0m \u001b[0;34m\u001b[0m\u001b[0m\n\u001b[0;32m---> 10\u001b[0;31m     \u001b[0m_df\u001b[0m \u001b[0;34m=\u001b[0m \u001b[0mtcm_gen\u001b[0m\u001b[0;34m.\u001b[0m\u001b[0mtcm_gen\u001b[0m\u001b[0;34m(\u001b[0m\u001b[0mdate\u001b[0m\u001b[0;34m)\u001b[0m\u001b[0;34m\u001b[0m\u001b[0;34m\u001b[0m\u001b[0m\n\u001b[0m\u001b[1;32m     11\u001b[0m     _df.to_csv(paths[\"tcm\"][\"local\"].format(_str_date),\n\u001b[1;32m     12\u001b[0m                index = False)\n",
      "\u001b[0;32m/data/home/hope/simDriver/sim/HKG/dev/utils/tcm_gen.py\u001b[0m in \u001b[0;36mtcm_gen\u001b[0;34m(self, date)\u001b[0m\n\u001b[1;32m    104\u001b[0m                     \u001b[0mend_date\u001b[0m\u001b[0;34m=\u001b[0m\u001b[0mday\u001b[0m\u001b[0;34m,\u001b[0m\u001b[0;34m\u001b[0m\u001b[0;34m\u001b[0m\u001b[0m\n\u001b[1;32m    105\u001b[0m                     config_params=config_params).as_data_frame()\n\u001b[0;32m--> 106\u001b[0;31m                 \u001b[0mdf_mkt\u001b[0m\u001b[0;34m[\u001b[0m\u001b[0;34m'date'\u001b[0m\u001b[0;34m]\u001b[0m \u001b[0;34m=\u001b[0m \u001b[0mday\u001b[0m\u001b[0;34m\u001b[0m\u001b[0;34m\u001b[0m\u001b[0m\n\u001b[0m\u001b[1;32m    107\u001b[0m                 \u001b[0ml_mkt\u001b[0m\u001b[0;34m.\u001b[0m\u001b[0mappend\u001b[0m\u001b[0;34m(\u001b[0m\u001b[0mdf_mkt\u001b[0m\u001b[0;34m)\u001b[0m\u001b[0;34m\u001b[0m\u001b[0;34m\u001b[0m\u001b[0m\n\u001b[1;32m    108\u001b[0m \u001b[0;34m\u001b[0m\u001b[0m\n",
      "\u001b[0;31mTypeError\u001b[0m: 'NoneType' object does not support item assignment"
     ]
    }
   ],
   "source": [
    "ra = constructor_set_region_asset(\"hkg\", \"eq\")\n",
    "date_list = ra.dates.get_trading_dates(20220901, 20221024, fmt = \"int\")\n",
    "tcm_gen = TCMGen([\"HKGUniv.EqTOP500\",\n",
    "                  \"2022-09-01\",\n",
    "                  \"2022-10-24\",\n",
    "                  \"/home/hope/mta_nas/rch\"])\n",
    "for date in date_list:\n",
    "    _str_date = \"-\".join([str(date)[:4], str(date)[4:6], str(date)[6:]])\n",
    "    \n",
    "    _df = tcm_gen.tcm_gen(date)\n",
    "    _df.to_csv(paths[\"tcm\"][\"local\"].format(_str_date),\n",
    "               index = False)"
   ]
  },
  {
   "cell_type": "markdown",
   "id": "f3bf9c84",
   "metadata": {},
   "source": [
    "## adv63"
   ]
  },
  {
   "cell_type": "code",
   "execution_count": 46,
   "id": "9fc568c2",
   "metadata": {},
   "outputs": [],
   "source": [
    "import time"
   ]
  },
  {
   "cell_type": "code",
   "execution_count": 48,
   "id": "36cf30be",
   "metadata": {},
   "outputs": [
    {
     "name": "stdout",
     "output_type": "stream",
     "text": [
      "WARNING Overwriting files in /data/home/hope/simDriver/running_pool/analysis/white_po/data/day_vol_adv63/\n",
      "20220901 done; time = 37.55 sec\n",
      "20220902 done; time = 35.17 sec\n",
      "20220905 done; time = 36.04 sec\n",
      "20220906 done; time = 34.87 sec\n",
      "20220907 done; time = 35.37 sec\n",
      "20220908 done; time = 35.59 sec\n",
      "20220909 done; time = 34.90 sec\n",
      "20220913 done; time = 36.13 sec\n",
      "20220914 done; time = 36.57 sec\n",
      "20220915 done; time = 38.62 sec\n",
      "20220916 done; time = 34.57 sec\n",
      "20220919 done; time = 36.14 sec\n",
      "20220920 done; time = 35.58 sec\n",
      "20220921 done; time = 36.30 sec\n",
      "20220922 done; time = 35.57 sec\n",
      "20220923 done; time = 37.26 sec\n",
      "20220926 done; time = 35.25 sec\n",
      "20220927 done; time = 38.59 sec\n",
      "20220928 done; time = 36.66 sec\n",
      "20220929 done; time = 35.20 sec\n",
      "20220930 done; time = 34.70 sec\n",
      "20221003 done; time = 35.28 sec\n",
      "20221005 done; time = 34.21 sec\n",
      "20221006 done; time = 36.10 sec\n",
      "20221007 done; time = 35.98 sec\n",
      "20221010 done; time = 37.32 sec\n",
      "20221011 done; time = 34.56 sec\n",
      "20221012 done; time = 35.17 sec\n",
      "20221013 done; time = 34.48 sec\n",
      "20221014 done; time = 34.30 sec\n",
      "20221017 done; time = 35.20 sec\n",
      "20221018 done; time = 34.56 sec\n",
      "20221019 done; time = 34.73 sec\n",
      "20221020 done; time = 34.53 sec\n",
      "20221021 done; time = 36.37 sec\n"
     ]
    }
   ],
   "source": [
    "region_asset = constructor_set_region_asset(\"hkg\", \"eq\")\n",
    "\n",
    "_n_backward = 63\n",
    "PATH_OUTPUT = '/data/home/hope/simDriver/running_pool/analysis/white_po/data/day_vol_adv%i/'%_n_backward\n",
    "if not os.path.exists(PATH_OUTPUT):\n",
    "    os.mkdir(PATH_OUTPUT)\n",
    "else:\n",
    "    print('WARNING Overwriting files in %s'%PATH_OUTPUT)\n",
    "dateList = region_asset.dates.get_trading_dates(20220901, 20221021, fmt = 'int')\n",
    "\n",
    "for dd in dateList:\n",
    "    \n",
    "    time1 = time.time()\n",
    "    \n",
    "    stock_member = region_asset.univs.get_all_jkeys(\"HKGUniv.EqTOP500\", dd, dd)\n",
    "    config_params = GenericTabularData.ConfigParams()\n",
    "    config_params.version = \"1.0.3\"\n",
    "    config_params.freq = \"1MIN\"\n",
    "    day_vol = GenericTabularData(\n",
    "        region = 'hkg',\n",
    "        asset = 'eq',\n",
    "        dataset = \"md_bar1m\",\n",
    "        univ = stock_member,\n",
    "        start_date = region_asset.dates.shift_trading_dates(dd, -_n_backward),\n",
    "        end_date = region_asset.dates.shift_trading_dates(dd, -1),\n",
    "        config_params = config_params\n",
    "    ).as_data_frame()\n",
    "    \n",
    "    day_vol = day_vol.groupby(['jkey', 'hhmmss_nano'])[['amount']].mean().reset_index()\n",
    "    day_vol['yyyymmdd'] = dd\n",
    "    \n",
    "    day_vol.to_parquet(os.path.join(PATH_OUTPUT, '%i.parquet'%dd), index = False)\n",
    "    \n",
    "    print(dd, 'done; time = %.2f sec'%(time.time() - time1))\n",
    "    \n",
    "    \n",
    "# _n_backward = 63\n",
    "# PATH_OUTPUT = '/data/home/hope/simDriver/running_pool/analysis/white_po/data/day_vol_adv%i/'%_n_backward\n",
    "# print('A total of %i files found'%(len(os.listdir(PATH_OUTPUT))))\n",
    "\n",
    "# for file in os.listdir(PATH_OUTPUT):\n",
    "    \n",
    "#     dd = int(file.split('.')[0])\n",
    "    \n",
    "#     write_file_to_jdfs(os.path.join(PATH_OUTPUT, file),\n",
    "#                        '/strat_res/strat_res_input_HKG/volume_prediction/adv63/1.0.0/%i.parquet'%dd,\n",
    "#                        'strat_res', 'strat_res_input_HKG')"
   ]
  },
  {
   "cell_type": "code",
   "execution_count": 49,
   "id": "54494303",
   "metadata": {},
   "outputs": [],
   "source": [
    "HOME_REMOTE = \"/home/hopec/\"\n",
    "paths = {\n",
    "    \"config\": {\n",
    "        \"local\": \"data/po/config/optCfg.white_PO_prod.HKGUniv.EqTOP500.csv\",\n",
    "        \"remote\": \"po_root/config/HKGUniv.EqTOP500/optCfg.white_PO_prod.HKGUniv.EqTOP500.csv\"\n",
    "    },\n",
    "    \"tcm\": {\n",
    "        \"local\": \"/home/hope/data/rch/eq/tcm/tcmStats/HKGUniv.EqTOP500/DAILY/TCMStats.HKGUniv.EqTOP500.{}.csv.gz\",\n",
    "        \"remote\": \"po_root/data/eq/tcm/tcmStats/HKGUniv.EqTOP500/DAILY/TCMStats.HKGUniv.EqTOP500.{}.csv.gz\"\n",
    "    },\n",
    "    \"adv63\": {\n",
    "        \"local\": \"/home/hope/simDriver/running_pool/analysis/white_po/data/day_vol_adv63/{}.parquet\",\n",
    "        \"remote\": \"po_root/data/local/volume_prediction/adv63/1.0.0/{}.csv.gz\"\n",
    "    }\n",
    "}"
   ]
  },
  {
   "cell_type": "code",
   "execution_count": 51,
   "id": "11e3c86a",
   "metadata": {},
   "outputs": [],
   "source": [
    "import pandas as pd"
   ]
  },
  {
   "cell_type": "code",
   "execution_count": 52,
   "id": "886c5a36",
   "metadata": {},
   "outputs": [],
   "source": [
    "ra = constructor_set_region_asset(\"hkg\", \"eq\")\n",
    "date_list = ra.dates.get_trading_dates(20220906, 20221021, fmt = \"int\")\n",
    "\n",
    "for date in date_list:\n",
    "    _df = pd.read_parquet(paths[\"adv63\"][\"local\"].format(date))\n",
    "    _df.to_csv(\"data/tmp/{}.csv.gz\".format(date), index = False)\n",
    "    \n",
    "    os.system(\"scp data/tmp/{}.csv.gz hopec@10.8.64.176:{}\"\\\n",
    "              .format(date,\n",
    "                      (HOME_REMOTE + paths[\"adv63\"][\"remote\"]).format(date)))\n",
    "    os.remove(\"data/tmp/{}.csv.gz\".format(date))"
   ]
  },
  {
   "cell_type": "markdown",
   "id": "19bb0419",
   "metadata": {},
   "source": [
    "## msci"
   ]
  },
  {
   "cell_type": "code",
   "execution_count": null,
   "id": "ea0f04d4",
   "metadata": {},
   "outputs": [],
   "source": []
  }
 ],
 "metadata": {
  "kernelspec": {
   "display_name": "Python 3 (ipykernel)",
   "language": "python",
   "name": "python3"
  },
  "language_info": {
   "codemirror_mode": {
    "name": "ipython",
    "version": 3
   },
   "file_extension": ".py",
   "mimetype": "text/x-python",
   "name": "python",
   "nbconvert_exporter": "python",
   "pygments_lexer": "ipython3",
   "version": "3.8.12"
  }
 },
 "nbformat": 4,
 "nbformat_minor": 5
}

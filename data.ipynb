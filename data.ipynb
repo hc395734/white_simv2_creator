{
 "cells": [
  {
   "cell_type": "code",
   "execution_count": 1,
   "id": "f390a639",
   "metadata": {},
   "outputs": [
    {
     "name": "stdout",
     "output_type": "stream",
     "text": [
      "Data Core API 1.1.1p1: setting Data Core Env to Environment.SHANGHAI \n"
     ]
    }
   ],
   "source": [
    "import pandas as pd\n",
    "\n",
    "from data_core import *"
   ]
  },
  {
   "cell_type": "code",
   "execution_count": 2,
   "id": "c41936c4",
   "metadata": {},
   "outputs": [],
   "source": [
    "HOME_REMOTE = \"/home/hopec/\"\n",
    "paths = {\n",
    "    \"config\": {\n",
    "        \"local\": \"data/po/config/optCfg.white_PO_prod.HKGUniv.EqTOP500.csv\",\n",
    "        \"remote\": \"po_root/config/HKGUniv.EqTOP500/optCfg.white_PO_prod.HKGUniv.EqTOP500.csv\"\n",
    "    },\n",
    "    \"tcm\": {\n",
    "        \"local\": \"/home/hope/data/rch/eq/tcm/tcmStats/HKGUniv.EqTOP500/DAILY/TCMStats.HKGUniv.EqTOP500.{}.csv.gz\",\n",
    "        \"remote\": \"po_root/data/eq/tcm/tcmStats/HKGUniv.EqTOP500/DAILY/TCMStats.HKGUniv.EqTOP500.{}.csv.gz\"\n",
    "    },\n",
    "    \"adv63\": {\n",
    "        \"local\": \"/home/hope/simDriver/running_pool/analysis/white_po/data/day_vol_adv63/{}.parquet\",\n",
    "        \"remote\": \"po_root/data/local/volume_prediction/adv63/1.0.0/{}.csv.gz\"\n",
    "    }\n",
    "}"
   ]
  },
  {
   "cell_type": "code",
   "execution_count": 3,
   "id": "91af41ef",
   "metadata": {},
   "outputs": [],
   "source": [
    "ra = constructor_set_region_asset(\"hkg\", \"eq\")\n",
    "date_list = ra.dates.get_trading_dates(20190101, 20220906, fmt = \"int\")\n",
    "\n",
    "for date in date_list:\n",
    "    _df = pd.read_parquet(paths[\"adv63\"][\"local\"].format(date))\n",
    "    _df.to_csv(\"data/tmp/{}.csv.gz\".format(date), index = False)\n",
    "    \n",
    "    os.system(\"scp data/tmp/{}.csv.gz hopec@10.8.64.176:{}\"\\\n",
    "              .format(date,\n",
    "                      (HOME_REMOTE + paths[\"adv63\"][\"remote\"]).format(date)))\n",
    "    os.remove(\"data/tmp/{}.csv.gz\".format(date))"
   ]
  },
  {
   "cell_type": "code",
   "execution_count": null,
   "id": "44d632b2",
   "metadata": {},
   "outputs": [],
   "source": []
  }
 ],
 "metadata": {
  "kernelspec": {
   "display_name": "Python 3 (ipykernel)",
   "language": "python",
   "name": "python3"
  },
  "language_info": {
   "codemirror_mode": {
    "name": "ipython",
    "version": 3
   },
   "file_extension": ".py",
   "mimetype": "text/x-python",
   "name": "python",
   "nbconvert_exporter": "python",
   "pygments_lexer": "ipython3",
   "version": "3.8.12"
  }
 },
 "nbformat": 4,
 "nbformat_minor": 5
}
